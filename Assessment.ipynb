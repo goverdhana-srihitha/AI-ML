{
  "nbformat": 4,
  "nbformat_minor": 0,
  "metadata": {
    "colab": {
      "name": "Assessment.ipynb",
      "provenance": [],
      "authorship_tag": "ABX9TyO7ZET+3rlkf7CqAk//4FQ5",
      "include_colab_link": true
    },
    "kernelspec": {
      "name": "python3",
      "display_name": "Python 3"
    }
  },
  "cells": [
    {
      "cell_type": "markdown",
      "metadata": {
        "id": "view-in-github",
        "colab_type": "text"
      },
      "source": [
        "<a href=\"https://colab.research.google.com/github/goverdhana-srihitha/AI-ML/blob/master/Assessment.ipynb\" target=\"_parent\"><img src=\"https://colab.research.google.com/assets/colab-badge.svg\" alt=\"Open In Colab\"/></a>"
      ]
    },
    {
      "cell_type": "markdown",
      "metadata": {
        "id": "kBQp2Ey3KpJ3",
        "colab_type": "text"
      },
      "source": [
        "####Name : G Sai Srihitha\n",
        "#### pin : 221710402014\n",
        "\n",
        "### Assessment on 17.07.2020"
      ]
    },
    {
      "cell_type": "markdown",
      "metadata": {
        "id": "nDume5Iy0YAK",
        "colab_type": "text"
      },
      "source": [
        "\n",
        "Dataset: https://raw.githubusercontent.com/Mounika-Kajjam/Datasets/master/amazon_jobs_dataset.csv\n",
        "\n",
        "List of programming languages and technologies: \n",
        "languages_list = ['swift','matlab','mongodb','hadoop','cosmos', 'mysql','spark', 'pig', 'python', 'java', 'c++', 'php',  'javascript', 'objectivec', 'ruby', 'perl','c','c#']\n",
        "\n",
        "1.What programming languages and technologies are required at Amazon from the above list?(using BASIC QUALIFICATIONS and PREFERRED QUALIFICATIONS columns)\n",
        "\n",
        "2.Programming Languages Popularity at Amazon: Extract the count of each programming language and visualize it through a bar plot\n",
        "[ On X Axis→ Programming languages ]\n",
        "[ On Y-axis→ Frequency of Programming Languages]\n",
        "\n",
        "3.Visualize the job locations through a plot.(Consider only the locations which are repeating more than 10 times)\n",
        "\n",
        "\n",
        "4.degree_list = [\"BA\", \"BS\", \"Bachelor's\", \"PhD\",\"MS\",\"Master's\"]\n",
        "Popularity of Academic Degree at Amazon : Which degrees are most asked at Amazon from the above degree_list?\n",
        "Make a plot to visualize Degree and its Popularity\n"
      ]
    },
    {
      "cell_type": "code",
      "metadata": {
        "id": "KRp-dfz10TyJ",
        "colab_type": "code",
        "colab": {}
      },
      "source": [
        "import pandas as pd\n",
        "import numpy as np\n",
        "import seaborn as sns \n",
        "import matplotlib.pyplot as plt\n",
        "import re\n",
        "from collections import defaultdict "
      ],
      "execution_count": 15,
      "outputs": []
    },
    {
      "cell_type": "markdown",
      "metadata": {
        "id": "0TH-PqxP3djf",
        "colab_type": "text"
      },
      "source": [
        "### Load the Data"
      ]
    },
    {
      "cell_type": "code",
      "metadata": {
        "id": "wzrZHe8s1awD",
        "colab_type": "code",
        "colab": {}
      },
      "source": [
        "url = 'https://raw.githubusercontent.com/Mounika-Kajjam/Datasets/master/amazon_jobs_dataset.csv'\n",
        "df = pd.read_csv(url)"
      ],
      "execution_count": 2,
      "outputs": []
    },
    {
      "cell_type": "code",
      "metadata": {
        "id": "HE_PNb-L1rHq",
        "colab_type": "code",
        "colab": {
          "base_uri": "https://localhost:8080/",
          "height": 302
        },
        "outputId": "70d082ec-427d-4726-c207-2ef80a928299"
      },
      "source": [
        "df.head()"
      ],
      "execution_count": 16,
      "outputs": [
        {
          "output_type": "execute_result",
          "data": {
            "text/html": [
              "<div>\n",
              "<style scoped>\n",
              "    .dataframe tbody tr th:only-of-type {\n",
              "        vertical-align: middle;\n",
              "    }\n",
              "\n",
              "    .dataframe tbody tr th {\n",
              "        vertical-align: top;\n",
              "    }\n",
              "\n",
              "    .dataframe thead th {\n",
              "        text-align: right;\n",
              "    }\n",
              "</style>\n",
              "<table border=\"1\" class=\"dataframe\">\n",
              "  <thead>\n",
              "    <tr style=\"text-align: right;\">\n",
              "      <th></th>\n",
              "      <th>Unnamed: 0</th>\n",
              "      <th>Title</th>\n",
              "      <th>location</th>\n",
              "      <th>Posting_date</th>\n",
              "      <th>DESCRIPTION</th>\n",
              "      <th>BASIC QUALIFICATIONS</th>\n",
              "      <th>PREFERRED QUALIFICATIONS</th>\n",
              "    </tr>\n",
              "  </thead>\n",
              "  <tbody>\n",
              "    <tr>\n",
              "      <th>0</th>\n",
              "      <td>0</td>\n",
              "      <td>Software Development Manager</td>\n",
              "      <td>US, WA, Seattle</td>\n",
              "      <td>March  1, 2018</td>\n",
              "      <td>You are an experienced hands-on manager with a...</td>\n",
              "      <td>· Proven track record of hiring and managing h...</td>\n",
              "      <td>· Experience building extremely high volume an...</td>\n",
              "    </tr>\n",
              "    <tr>\n",
              "      <th>1</th>\n",
              "      <td>1</td>\n",
              "      <td>Software Development Engineer</td>\n",
              "      <td>IN, KA, Bangalore</td>\n",
              "      <td>March  1, 2018</td>\n",
              "      <td>Amazon is driven by being “the world’s most cu...</td>\n",
              "      <td>· Bachelor’s Degree in Computer Science or rel...</td>\n",
              "      <td>· Experience building complex software systems...</td>\n",
              "    </tr>\n",
              "    <tr>\n",
              "      <th>2</th>\n",
              "      <td>2</td>\n",
              "      <td>Software Development Engineer</td>\n",
              "      <td>IN, KA, Bangalore</td>\n",
              "      <td>March  1, 2018</td>\n",
              "      <td>Amazon is driven by being “the world’s most cu...</td>\n",
              "      <td>· Bachelor’s Degree in Computer Science or rel...</td>\n",
              "      <td>· Experience building complex software systems...</td>\n",
              "    </tr>\n",
              "    <tr>\n",
              "      <th>3</th>\n",
              "      <td>3</td>\n",
              "      <td>Software Development Engineer - Amazon Lex</td>\n",
              "      <td>US, WA, Seattle</td>\n",
              "      <td>March  1, 2018</td>\n",
              "      <td>Have you ever wondered what it takes to build ...</td>\n",
              "      <td>· Bachelors Degree in Computer Science or a re...</td>\n",
              "      <td>· Masters or PhD in Computer Science· Experien...</td>\n",
              "    </tr>\n",
              "    <tr>\n",
              "      <th>4</th>\n",
              "      <td>4</td>\n",
              "      <td>Software Development Engineer - Amazon Lex</td>\n",
              "      <td>US, WA, Seattle</td>\n",
              "      <td>March  1, 2018</td>\n",
              "      <td>Have you ever wondered what it takes to build ...</td>\n",
              "      <td>· Bachelors Degree in Computer Science or a re...</td>\n",
              "      <td>· Masters or PhD in Computer Science· Experien...</td>\n",
              "    </tr>\n",
              "  </tbody>\n",
              "</table>\n",
              "</div>"
            ],
            "text/plain": [
              "   Unnamed: 0  ...                           PREFERRED QUALIFICATIONS\n",
              "0           0  ...  · Experience building extremely high volume an...\n",
              "1           1  ...  · Experience building complex software systems...\n",
              "2           2  ...  · Experience building complex software systems...\n",
              "3           3  ...  · Masters or PhD in Computer Science· Experien...\n",
              "4           4  ...  · Masters or PhD in Computer Science· Experien...\n",
              "\n",
              "[5 rows x 7 columns]"
            ]
          },
          "metadata": {
            "tags": []
          },
          "execution_count": 16
        }
      ]
    },
    {
      "cell_type": "code",
      "metadata": {
        "id": "Bm27R_Pv1txn",
        "colab_type": "code",
        "colab": {}
      },
      "source": [
        "# List of programming languages and technologies: \n",
        "languages_list = ['swift','matlab','mongodb','hadoop','cosmos', 'mysql','spark', 'pig', 'python', 'java', 'c++', 'php',  'javascript', 'objectivec', 'ruby', 'perl','c','c#']\n"
      ],
      "execution_count": 17,
      "outputs": []
    },
    {
      "cell_type": "markdown",
      "metadata": {
        "id": "Xj574TYv35_v",
        "colab_type": "text"
      },
      "source": [
        "### /1. \n",
        "What programming languages and technologies are required at Amazon from the above list?(using BASIC QUALIFICATIONS and PREFERRED QUALIFICATIONS columns)\n",
        "\n"
      ]
    },
    {
      "cell_type": "code",
      "metadata": {
        "id": "F8LjKQvc3sh9",
        "colab_type": "code",
        "colab": {}
      },
      "source": [
        "qual = df['BASIC QUALIFICATIONS'].tolist()+df['PREFERRED QUALIFICATIONS'].tolist()\n",
        "qualifications_string = \"\".join(re.sub('[·,-/’()]', '', str(v)) for v in qual).lower()"
      ],
      "execution_count": 18,
      "outputs": []
    },
    {
      "cell_type": "code",
      "metadata": {
        "id": "dJnlXbqA5VRR",
        "colab_type": "code",
        "colab": {}
      },
      "source": [
        "qualifications_string"
      ],
      "execution_count": null,
      "outputs": []
    },
    {
      "cell_type": "code",
      "metadata": {
        "id": "Cfz5yNv65VLv",
        "colab_type": "code",
        "colab": {
          "base_uri": "https://localhost:8080/",
          "height": 55
        },
        "outputId": "164992b8-1e3a-45f8-dd46-04bb43adea9f"
      },
      "source": [
        "word = dict((x,0) for x in languages_list)\n",
        "for w in re.findall(r\"[[\\w'+#-]+|[.!?;']\", qualifications_string):\n",
        "  if w in word:\n",
        "    word[w]+=1\n",
        "print(word)    "
      ],
      "execution_count": 19,
      "outputs": [
        {
          "output_type": "stream",
          "text": [
            "{'swift': 56, 'matlab': 24, 'mongodb': 19, 'hadoop': 219, 'cosmos': 1, 'mysql': 74, 'spark': 148, 'pig': 13, 'python': 1187, 'java': 3065, 'c++': 1892, 'php': 60, 'javascript': 832, 'objectivec': 55, 'ruby': 570, 'perl': 529, 'c': 1010, 'c#': 991}\n"
          ],
          "name": "stdout"
        }
      ]
    },
    {
      "cell_type": "code",
      "metadata": {
        "id": "loahrx_B5VEV",
        "colab_type": "code",
        "colab": {}
      },
      "source": [
        "#sorting the above dictionary\n",
        "popularity = sorted(word.items(), key=lambda kv: kv[1] , reverse=True)"
      ],
      "execution_count": 20,
      "outputs": []
    },
    {
      "cell_type": "code",
      "metadata": {
        "id": "gjyxnOL35U7f",
        "colab_type": "code",
        "colab": {
          "base_uri": "https://localhost:8080/",
          "height": 595
        },
        "outputId": "a99a9a94-8c66-4e32-d21d-6cd060393dbc"
      },
      "source": [
        "#New dataframe for programming languages and its popularity\n",
        "popular_prog = pd.DataFrame(popularity,columns=['Language','Popularity'])\n",
        "popular_prog"
      ],
      "execution_count": 30,
      "outputs": [
        {
          "output_type": "execute_result",
          "data": {
            "text/html": [
              "<div>\n",
              "<style scoped>\n",
              "    .dataframe tbody tr th:only-of-type {\n",
              "        vertical-align: middle;\n",
              "    }\n",
              "\n",
              "    .dataframe tbody tr th {\n",
              "        vertical-align: top;\n",
              "    }\n",
              "\n",
              "    .dataframe thead th {\n",
              "        text-align: right;\n",
              "    }\n",
              "</style>\n",
              "<table border=\"1\" class=\"dataframe\">\n",
              "  <thead>\n",
              "    <tr style=\"text-align: right;\">\n",
              "      <th></th>\n",
              "      <th>Language</th>\n",
              "      <th>Popularity</th>\n",
              "    </tr>\n",
              "  </thead>\n",
              "  <tbody>\n",
              "    <tr>\n",
              "      <th>0</th>\n",
              "      <td>java</td>\n",
              "      <td>3065</td>\n",
              "    </tr>\n",
              "    <tr>\n",
              "      <th>1</th>\n",
              "      <td>c++</td>\n",
              "      <td>1892</td>\n",
              "    </tr>\n",
              "    <tr>\n",
              "      <th>2</th>\n",
              "      <td>python</td>\n",
              "      <td>1187</td>\n",
              "    </tr>\n",
              "    <tr>\n",
              "      <th>3</th>\n",
              "      <td>c</td>\n",
              "      <td>1010</td>\n",
              "    </tr>\n",
              "    <tr>\n",
              "      <th>4</th>\n",
              "      <td>c#</td>\n",
              "      <td>991</td>\n",
              "    </tr>\n",
              "    <tr>\n",
              "      <th>5</th>\n",
              "      <td>javascript</td>\n",
              "      <td>832</td>\n",
              "    </tr>\n",
              "    <tr>\n",
              "      <th>6</th>\n",
              "      <td>ruby</td>\n",
              "      <td>570</td>\n",
              "    </tr>\n",
              "    <tr>\n",
              "      <th>7</th>\n",
              "      <td>perl</td>\n",
              "      <td>529</td>\n",
              "    </tr>\n",
              "    <tr>\n",
              "      <th>8</th>\n",
              "      <td>hadoop</td>\n",
              "      <td>219</td>\n",
              "    </tr>\n",
              "    <tr>\n",
              "      <th>9</th>\n",
              "      <td>spark</td>\n",
              "      <td>148</td>\n",
              "    </tr>\n",
              "    <tr>\n",
              "      <th>10</th>\n",
              "      <td>mysql</td>\n",
              "      <td>74</td>\n",
              "    </tr>\n",
              "    <tr>\n",
              "      <th>11</th>\n",
              "      <td>php</td>\n",
              "      <td>60</td>\n",
              "    </tr>\n",
              "    <tr>\n",
              "      <th>12</th>\n",
              "      <td>swift</td>\n",
              "      <td>56</td>\n",
              "    </tr>\n",
              "    <tr>\n",
              "      <th>13</th>\n",
              "      <td>objectivec</td>\n",
              "      <td>55</td>\n",
              "    </tr>\n",
              "    <tr>\n",
              "      <th>14</th>\n",
              "      <td>matlab</td>\n",
              "      <td>24</td>\n",
              "    </tr>\n",
              "    <tr>\n",
              "      <th>15</th>\n",
              "      <td>mongodb</td>\n",
              "      <td>19</td>\n",
              "    </tr>\n",
              "    <tr>\n",
              "      <th>16</th>\n",
              "      <td>pig</td>\n",
              "      <td>13</td>\n",
              "    </tr>\n",
              "    <tr>\n",
              "      <th>17</th>\n",
              "      <td>cosmos</td>\n",
              "      <td>1</td>\n",
              "    </tr>\n",
              "  </tbody>\n",
              "</table>\n",
              "</div>"
            ],
            "text/plain": [
              "      Language  Popularity\n",
              "0         java        3065\n",
              "1          c++        1892\n",
              "2       python        1187\n",
              "3            c        1010\n",
              "4           c#         991\n",
              "5   javascript         832\n",
              "6         ruby         570\n",
              "7         perl         529\n",
              "8       hadoop         219\n",
              "9        spark         148\n",
              "10       mysql          74\n",
              "11         php          60\n",
              "12       swift          56\n",
              "13  objectivec          55\n",
              "14      matlab          24\n",
              "15     mongodb          19\n",
              "16         pig          13\n",
              "17      cosmos           1"
            ]
          },
          "metadata": {
            "tags": []
          },
          "execution_count": 30
        }
      ]
    },
    {
      "cell_type": "markdown",
      "metadata": {
        "id": "8_4BhxJZAPVx",
        "colab_type": "text"
      },
      "source": [
        "### 2.\n",
        "Programming Languages Popularity at Amazon: Extract the count of each programming language and visualize it through a bar plot\n",
        "\n",
        "[ On X Axis→ Programming languages ]\n",
        "\n",
        "[ On Y-axis→ Frequency of Programming Languages]\n"
      ]
    },
    {
      "cell_type": "code",
      "metadata": {
        "id": "iJd3oJgc_APw",
        "colab_type": "code",
        "colab": {
          "base_uri": "https://localhost:8080/",
          "height": 336
        },
        "outputId": "42908e77-f0bf-452b-f811-194743c0f824"
      },
      "source": [
        "popular_prog.plot.bar(x='Language',y='Popularity',legend=False)\n",
        "plt.title(\"Programming Languages popularity at Amazon Jobs\")\n",
        "plt.xlabel(\"Programming languages\")\n",
        "plt.ylabel(\"Frequency of Programming Languages\")\n",
        "plt.show()"
      ],
      "execution_count": 32,
      "outputs": [
        {
          "output_type": "display_data",
          "data": {
            "image/png": "[encoded data removed]",
            "text/plain": [
              "<Figure size 432x288 with 1 Axes>"
            ]
          },
          "metadata": {
            "tags": [],
            "needs_background": "light"
          }
        }
      ]
    },
    {
      "cell_type": "markdown",
      "metadata": {
        "id": "KsaR3au2BlL-",
        "colab_type": "text"
      },
      "source": [
        "### 3.\n",
        "Visualize the job locations through a plot.(Consider only the locations which are repeating more than 10 times)\n"
      ]
    },
    {
      "cell_type": "code",
      "metadata": {
        "id": "mMTMIDYMIL2I",
        "colab_type": "code",
        "colab": {}
      },
      "source": [
        "threshold = 10\n",
        "job_description=pd.DataFrame(df)\n",
        "location_value_counts = job_description.location.value_counts()\n",
        "to_remove = location_value_counts[location_value_counts <= threshold].index\n",
        "job_description['location'].replace(to_remove, np.nan, inplace=True)\n",
        "location_value_counts = job_description.location.value_counts()\n",
        "location_value_counts = location_value_counts[::-1]\n"
      ],
      "execution_count": 62,
      "outputs": []
    },
    {
      "cell_type": "code",
      "metadata": {
        "id": "sgt6YkgNIlUy",
        "colab_type": "code",
        "colab": {
          "base_uri": "https://localhost:8080/",
          "height": 753
        },
        "outputId": "e5b68694-45fb-42c6-e33d-6c2a730661b7"
      },
      "source": [
        "location_value_counts.plot.barh(figsize=(12, 12))\n",
        "plt.title(\"Amazon Jobs Location\", fontsize=24)\n",
        "plt.xlabel(\"Popularity\", fontsize=20)\n",
        "plt.ylabel(\"Location\",fontsize=20)\n",
        "plt.xticks(fontsize=16)\n",
        "plt.yticks(fontsize=16)\n",
        "plt.show()"
      ],
      "execution_count": 67,
      "outputs": [
        {
          "output_type": "display_data",
          "data": {
            "image/png": "[encoded data removed]",
            "text/plain": [
              "<Figure size 864x864 with 1 Axes>"
            ]
          },
          "metadata": {
            "tags": [],
            "needs_background": "light"
          }
        }
      ]
    },
    {
      "cell_type": "markdown",
      "metadata": {
        "id": "b3Yuc2peJV7I",
        "colab_type": "text"
      },
      "source": [
        "###4. \n",
        " degree_list = [\"BA\", \"BS\", \"Bachelor's\", \"PhD\",\"MS\",\"Master's\"]\n",
        "\n",
        "Popularity of Academic Degree at Amazon : Which degrees are most asked at \n",
        "Amazon from the above degree_list?\n",
        "\n",
        "Make a plot to visualize Degree and its Popularity\n"
      ]
    },
    {
      "cell_type": "code",
      "metadata": {
        "id": "_s0yM8mHD2tK",
        "colab_type": "code",
        "colab": {}
      },
      "source": [
        "basic_qual_string = \"\".join(re.sub('[·,-/’()]', '', str(v)) for v in qual)\n"
      ],
      "execution_count": 68,
      "outputs": []
    },
    {
      "cell_type": "code",
      "metadata": {
        "id": "8o7AWodpD-2p",
        "colab_type": "code",
        "colab": {}
      },
      "source": [
        "degree_list = [\"BA\", \"BS\", \"Bachelor's\", \"PhD\",\"MS\",\"Master's\"]"
      ],
      "execution_count": 40,
      "outputs": []
    },
    {
      "cell_type": "code",
      "metadata": {
        "id": "DxvP_A4AEHbe",
        "colab_type": "code",
        "colab": {
          "base_uri": "https://localhost:8080/",
          "height": 35
        },
        "outputId": "f5a1527a-a9bf-4856-daf0-01de7f6b02f2"
      },
      "source": [
        "words = dict((x,0) for x in degree_list)\n",
        "for w in re.findall(r\"[\\w']+|[.,!?;']\",basic_qual_string):\n",
        "  if w in words:\n",
        "    words[w]+=1\n",
        "print(words)    "
      ],
      "execution_count": 42,
      "outputs": [
        {
          "output_type": "stream",
          "text": [
            "{'BA': 2, 'BS': 524, \"Bachelor's\": 947, 'PhD': 489, 'MS': 433, \"Master's\": 417}\n"
          ],
          "name": "stdout"
        }
      ]
    },
    {
      "cell_type": "code",
      "metadata": {
        "id": "7vvSg7xGEj2V",
        "colab_type": "code",
        "colab": {
          "base_uri": "https://localhost:8080/",
          "height": 124
        },
        "outputId": "000107aa-b512-460d-a1b9-2cb6b858d292"
      },
      "source": [
        "degree_needed = sorted(words.items(),key=lambda kv:kv[1], reverse = True)\n",
        "degree_needed"
      ],
      "execution_count": 45,
      "outputs": [
        {
          "output_type": "execute_result",
          "data": {
            "text/plain": [
              "[(\"Bachelor's\", 947),\n",
              " ('BS', 524),\n",
              " ('PhD', 489),\n",
              " ('MS', 433),\n",
              " (\"Master's\", 417),\n",
              " ('BA', 2)]"
            ]
          },
          "metadata": {
            "tags": []
          },
          "execution_count": 45
        }
      ]
    },
    {
      "cell_type": "code",
      "metadata": {
        "id": "LLEJFd6ZE1q2",
        "colab_type": "code",
        "colab": {
          "base_uri": "https://localhost:8080/",
          "height": 230
        },
        "outputId": "2c11db28-3e0a-485c-a862-ead21384c78f"
      },
      "source": [
        "#new dataframe \n",
        "df_degree_needed = pd.DataFrame(degree_needed,columns=['Degree','Popularity'])\n",
        "df_degree_needed"
      ],
      "execution_count": 46,
      "outputs": [
        {
          "output_type": "execute_result",
          "data": {
            "text/html": [
              "<div>\n",
              "<style scoped>\n",
              "    .dataframe tbody tr th:only-of-type {\n",
              "        vertical-align: middle;\n",
              "    }\n",
              "\n",
              "    .dataframe tbody tr th {\n",
              "        vertical-align: top;\n",
              "    }\n",
              "\n",
              "    .dataframe thead th {\n",
              "        text-align: right;\n",
              "    }\n",
              "</style>\n",
              "<table border=\"1\" class=\"dataframe\">\n",
              "  <thead>\n",
              "    <tr style=\"text-align: right;\">\n",
              "      <th></th>\n",
              "      <th>Degree</th>\n",
              "      <th>Popularity</th>\n",
              "    </tr>\n",
              "  </thead>\n",
              "  <tbody>\n",
              "    <tr>\n",
              "      <th>0</th>\n",
              "      <td>Bachelor's</td>\n",
              "      <td>947</td>\n",
              "    </tr>\n",
              "    <tr>\n",
              "      <th>1</th>\n",
              "      <td>BS</td>\n",
              "      <td>524</td>\n",
              "    </tr>\n",
              "    <tr>\n",
              "      <th>2</th>\n",
              "      <td>PhD</td>\n",
              "      <td>489</td>\n",
              "    </tr>\n",
              "    <tr>\n",
              "      <th>3</th>\n",
              "      <td>MS</td>\n",
              "      <td>433</td>\n",
              "    </tr>\n",
              "    <tr>\n",
              "      <th>4</th>\n",
              "      <td>Master's</td>\n",
              "      <td>417</td>\n",
              "    </tr>\n",
              "    <tr>\n",
              "      <th>5</th>\n",
              "      <td>BA</td>\n",
              "      <td>2</td>\n",
              "    </tr>\n",
              "  </tbody>\n",
              "</table>\n",
              "</div>"
            ],
            "text/plain": [
              "       Degree  Popularity\n",
              "0  Bachelor's         947\n",
              "1          BS         524\n",
              "2         PhD         489\n",
              "3          MS         433\n",
              "4    Master's         417\n",
              "5          BA           2"
            ]
          },
          "metadata": {
            "tags": []
          },
          "execution_count": 46
        }
      ]
    },
    {
      "cell_type": "code",
      "metadata": {
        "id": "H76kEsdtFaDZ",
        "colab_type": "code",
        "colab": {
          "base_uri": "https://localhost:8080/",
          "height": 761
        },
        "outputId": "08dc8519-b815-42c8-e596-dc9e0df4202a"
      },
      "source": [
        "df_degree_needed = df_degree_needed[::-1] \n",
        "df_degree_needed.plot.bar(x='Degree',y='Popularity', figsize=(10,10),stacked=True)\n",
        "plt.suptitle(\"Popularity of academic degree at Amazon Jobs \", fontsize=18)\n",
        "plt.xlabel(\"Degree\")\n",
        "plt.ylabel(\"Popularity\")\n",
        "plt.xticks(fontsize=18)\n",
        "plt.yticks(fontsize=18)\n",
        "plt.show()"
      ],
      "execution_count": 52,
      "outputs": [
        {
          "output_type": "display_data",
          "data": {
            "image/png": "[encoded data removed]",
            "text/plain": [
              "<Figure size 720x720 with 1 Axes>"
            ]
          },
          "metadata": {
            "tags": [],
            "needs_background": "light"
          }
        }
      ]
    },
    {
      "cell_type": "code",
      "metadata": {
        "id": "Hc3yrAM8HIeu",
        "colab_type": "code",
        "colab": {}
      },
      "source": [
        ""
      ],
      "execution_count": null,
      "outputs": []
    }
  ]
}